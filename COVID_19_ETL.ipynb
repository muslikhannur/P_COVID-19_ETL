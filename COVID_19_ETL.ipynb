{
  "nbformat": 4,
  "nbformat_minor": 0,
  "metadata": {
    "colab": {
      "name": "COVID-19_ETL.ipynb",
      "provenance": [],
      "collapsed_sections": [],
      "toc_visible": true,
      "authorship_tag": "ABX9TyMrd/79bF6yKCF4HP3gqd6+"
    },
    "kernelspec": {
      "name": "python3",
      "display_name": "Python 3"
    }
  },
  "cells": [
    {
      "cell_type": "markdown",
      "metadata": {
        "id": "pSM4uJhHEgvz",
        "colab_type": "text"
      },
      "source": [
        "# **First Thing First**"
      ]
    },
    {
      "cell_type": "markdown",
      "metadata": {
        "id": "_AuNH5ZyFTub",
        "colab_type": "text"
      },
      "source": [
        "* **Upload Kaggle.json**"
      ]
    },
    {
      "cell_type": "code",
      "metadata": {
        "id": "csr2c4YNXIPK",
        "colab_type": "code",
        "outputId": "6b781e0d-866e-4a6e-bb81-ef3c2a474cb1",
        "colab": {
          "resources": {
            "http://localhost:8080/nbextensions/google.colab/files.js": {
              "data": "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",
              "ok": true,
              "headers": [
                [
                  "content-type",
                  "application/javascript"
                ]
              ],
              "status": 200,
              "status_text": ""
            }
          },
          "base_uri": "https://localhost:8080/",
          "height": 91
        }
      },
      "source": [
        "from google.colab import files\n",
        "files.upload()"
      ],
      "execution_count": 1,
      "outputs": [
        {
          "output_type": "display_data",
          "data": {
            "text/html": [
              "\n",
              "     <input type=\"file\" id=\"files-c2b0982a-4d00-4ec2-9cf5-186c8812c018\" name=\"files[]\" multiple disabled />\n",
              "     <output id=\"result-c2b0982a-4d00-4ec2-9cf5-186c8812c018\">\n",
              "      Upload widget is only available when the cell has been executed in the\n",
              "      current browser session. Please rerun this cell to enable.\n",
              "      </output>\n",
              "      <script src=\"/nbextensions/google.colab/files.js\"></script> "
            ],
            "text/plain": [
              "<IPython.core.display.HTML object>"
            ]
          },
          "metadata": {
            "tags": []
          }
        },
        {
          "output_type": "stream",
          "text": [
            "Saving kaggle.json to kaggle.json\n"
          ],
          "name": "stdout"
        },
        {
          "output_type": "execute_result",
          "data": {
            "text/plain": [
              "{'kaggle.json': b'{\"username\":\"muslikhannur\",\"key\":\"e1a764bf29bba0afe667930f2a7d397c\"}'}"
            ]
          },
          "metadata": {
            "tags": []
          },
          "execution_count": 1
        }
      ]
    },
    {
      "cell_type": "markdown",
      "metadata": {
        "id": "u9ZdwiPcFeZM",
        "colab_type": "text"
      },
      "source": [
        "* **Mount Drive**"
      ]
    },
    {
      "cell_type": "code",
      "metadata": {
        "id": "IXo7fwbJ6mpH",
        "colab_type": "code",
        "outputId": "026e820b-f859-4eb4-8120-e5c70ca35de3",
        "colab": {
          "base_uri": "https://localhost:8080/",
          "height": 54
        }
      },
      "source": [
        "from google.colab import drive # So the Directory Path will be Visible\n",
        "drive.mount('/content/drive')"
      ],
      "execution_count": 2,
      "outputs": [
        {
          "output_type": "stream",
          "text": [
            "Drive already mounted at /content/drive; to attempt to forcibly remount, call drive.mount(\"/content/drive\", force_remount=True).\n"
          ],
          "name": "stdout"
        }
      ]
    },
    {
      "cell_type": "markdown",
      "metadata": {
        "id": "d0Cf2egvEwxX",
        "colab_type": "text"
      },
      "source": [
        "# **Tweak Datasets Using Kaggle API**"
      ]
    },
    {
      "cell_type": "markdown",
      "metadata": {
        "id": "YkN2ajfo648L",
        "colab_type": "text"
      },
      "source": [
        "* **Some Installation and Configuration**"
      ]
    },
    {
      "cell_type": "code",
      "metadata": {
        "id": "F61UK2PC45K-",
        "colab_type": "code",
        "colab": {}
      },
      "source": [
        "!pip install -q kaggle\n",
        "!mkdir -p ~/.kaggle\n",
        "!cp kaggle.json ~/.kaggle/\n",
        "!chmod 600 /root/.kaggle/kaggle.json"
      ],
      "execution_count": 0,
      "outputs": []
    },
    {
      "cell_type": "markdown",
      "metadata": {
        "colab_type": "text",
        "id": "7Eqk1VcLE6Zn"
      },
      "source": [
        "* **Looking for the Dataset List with Keyword 'COVID'**"
      ]
    },
    {
      "cell_type": "code",
      "metadata": {
        "id": "h1i3_JHo5PBy",
        "colab_type": "code",
        "colab": {}
      },
      "source": [
        "!kaggle datasets list -s COVID"
      ],
      "execution_count": 0,
      "outputs": []
    },
    {
      "cell_type": "markdown",
      "metadata": {
        "id": "k0xuXREpFDF1",
        "colab_type": "text"
      },
      "source": [
        "* **Force Download and Place to Mounted Drive** - 4 April = 18687 Rows"
      ]
    },
    {
      "cell_type": "code",
      "metadata": {
        "id": "S99WFZz-5gCV",
        "colab_type": "code",
        "colab": {}
      },
      "source": [
        "!kaggle datasets download imdevskp/corona-virus-report -p '/content/drive/My Drive/Colab Notebooks/Projects - COVID19' --unzip -o -q"
      ],
      "execution_count": 0,
      "outputs": []
    },
    {
      "cell_type": "markdown",
      "metadata": {
        "id": "ECc3bOUyF3Xi",
        "colab_type": "text"
      },
      "source": [
        "# **Start The Main Part**"
      ]
    },
    {
      "cell_type": "markdown",
      "metadata": {
        "id": "XgVXsndz0OdY",
        "colab_type": "text"
      },
      "source": [
        "* **Load Libraries**"
      ]
    },
    {
      "cell_type": "code",
      "metadata": {
        "id": "LGjUMeycGFZO",
        "colab_type": "code",
        "colab": {}
      },
      "source": [
        "!pip install pycountry\n",
        "!pip install pycountry_convert\n",
        "!pip install pymysql\n",
        "\n",
        "import pymysql\n",
        "import pycountry\n",
        "import pandas as pd\n",
        "import numpy as np\n",
        "import pycountry_convert as pc\n",
        "import datetime\n",
        "\n",
        "from sqlalchemy import create_engine\n",
        "from datetime import datetime\n",
        "from functools import reduce\n",
        "from datetime import date"
      ],
      "execution_count": 0,
      "outputs": []
    },
    {
      "cell_type": "markdown",
      "metadata": {
        "id": "vOpR0HVi0fTa",
        "colab_type": "text"
      },
      "source": [
        "* **Load Datasets**"
      ]
    },
    {
      "cell_type": "code",
      "metadata": {
        "id": "W-Z3minUGif9",
        "colab_type": "code",
        "outputId": "92798b84-7dd8-4c44-8aec-9310000839c9",
        "colab": {
          "base_uri": "https://localhost:8080/",
          "height": 419
        }
      },
      "source": [
        "path = '/content/drive/My Drive/Colab Notebooks/Projects - COVID19/'\n",
        "df_Covid = pd.read_csv(path + 'covid_19_clean_complete.csv')\n",
        "df_Covid.columns = ['Country_State', 'Country_Name', 'Lat', 'Long',\n",
        "                    'DateOld', 'Confirmed', 'Deaths', 'Recovered'] \n",
        "df_Covid"
      ],
      "execution_count": 7,
      "outputs": [
        {
          "output_type": "execute_result",
          "data": {
            "text/html": [
              "<div>\n",
              "<style scoped>\n",
              "    .dataframe tbody tr th:only-of-type {\n",
              "        vertical-align: middle;\n",
              "    }\n",
              "\n",
              "    .dataframe tbody tr th {\n",
              "        vertical-align: top;\n",
              "    }\n",
              "\n",
              "    .dataframe thead th {\n",
              "        text-align: right;\n",
              "    }\n",
              "</style>\n",
              "<table border=\"1\" class=\"dataframe\">\n",
              "  <thead>\n",
              "    <tr style=\"text-align: right;\">\n",
              "      <th></th>\n",
              "      <th>Country_State</th>\n",
              "      <th>Country_Name</th>\n",
              "      <th>Lat</th>\n",
              "      <th>Long</th>\n",
              "      <th>DateOld</th>\n",
              "      <th>Confirmed</th>\n",
              "      <th>Deaths</th>\n",
              "      <th>Recovered</th>\n",
              "    </tr>\n",
              "  </thead>\n",
              "  <tbody>\n",
              "    <tr>\n",
              "      <th>0</th>\n",
              "      <td>NaN</td>\n",
              "      <td>Afghanistan</td>\n",
              "      <td>33.000000</td>\n",
              "      <td>65.000000</td>\n",
              "      <td>1/22/20</td>\n",
              "      <td>0</td>\n",
              "      <td>0</td>\n",
              "      <td>0</td>\n",
              "    </tr>\n",
              "    <tr>\n",
              "      <th>1</th>\n",
              "      <td>NaN</td>\n",
              "      <td>Albania</td>\n",
              "      <td>41.153300</td>\n",
              "      <td>20.168300</td>\n",
              "      <td>1/22/20</td>\n",
              "      <td>0</td>\n",
              "      <td>0</td>\n",
              "      <td>0</td>\n",
              "    </tr>\n",
              "    <tr>\n",
              "      <th>2</th>\n",
              "      <td>NaN</td>\n",
              "      <td>Algeria</td>\n",
              "      <td>28.033900</td>\n",
              "      <td>1.659600</td>\n",
              "      <td>1/22/20</td>\n",
              "      <td>0</td>\n",
              "      <td>0</td>\n",
              "      <td>0</td>\n",
              "    </tr>\n",
              "    <tr>\n",
              "      <th>3</th>\n",
              "      <td>NaN</td>\n",
              "      <td>Andorra</td>\n",
              "      <td>42.506300</td>\n",
              "      <td>1.521800</td>\n",
              "      <td>1/22/20</td>\n",
              "      <td>0</td>\n",
              "      <td>0</td>\n",
              "      <td>0</td>\n",
              "    </tr>\n",
              "    <tr>\n",
              "      <th>4</th>\n",
              "      <td>NaN</td>\n",
              "      <td>Angola</td>\n",
              "      <td>-11.202700</td>\n",
              "      <td>17.873900</td>\n",
              "      <td>1/22/20</td>\n",
              "      <td>0</td>\n",
              "      <td>0</td>\n",
              "      <td>0</td>\n",
              "    </tr>\n",
              "    <tr>\n",
              "      <th>...</th>\n",
              "      <td>...</td>\n",
              "      <td>...</td>\n",
              "      <td>...</td>\n",
              "      <td>...</td>\n",
              "      <td>...</td>\n",
              "      <td>...</td>\n",
              "      <td>...</td>\n",
              "      <td>...</td>\n",
              "    </tr>\n",
              "    <tr>\n",
              "      <th>19013</th>\n",
              "      <td>NaN</td>\n",
              "      <td>Botswana</td>\n",
              "      <td>-22.328500</td>\n",
              "      <td>24.684900</td>\n",
              "      <td>4/4/20</td>\n",
              "      <td>4</td>\n",
              "      <td>1</td>\n",
              "      <td>0</td>\n",
              "    </tr>\n",
              "    <tr>\n",
              "      <th>19014</th>\n",
              "      <td>NaN</td>\n",
              "      <td>Burundi</td>\n",
              "      <td>-3.373100</td>\n",
              "      <td>29.918900</td>\n",
              "      <td>4/4/20</td>\n",
              "      <td>3</td>\n",
              "      <td>0</td>\n",
              "      <td>0</td>\n",
              "    </tr>\n",
              "    <tr>\n",
              "      <th>19015</th>\n",
              "      <td>NaN</td>\n",
              "      <td>Sierra Leone</td>\n",
              "      <td>8.460555</td>\n",
              "      <td>-11.779889</td>\n",
              "      <td>4/4/20</td>\n",
              "      <td>4</td>\n",
              "      <td>0</td>\n",
              "      <td>0</td>\n",
              "    </tr>\n",
              "    <tr>\n",
              "      <th>19016</th>\n",
              "      <td>NaN</td>\n",
              "      <td>Malawi</td>\n",
              "      <td>-13.254308</td>\n",
              "      <td>34.301525</td>\n",
              "      <td>4/4/20</td>\n",
              "      <td>4</td>\n",
              "      <td>0</td>\n",
              "      <td>0</td>\n",
              "    </tr>\n",
              "    <tr>\n",
              "      <th>19017</th>\n",
              "      <td>Falkland Islands (Islas Malvinas)</td>\n",
              "      <td>United Kingdom</td>\n",
              "      <td>-51.796300</td>\n",
              "      <td>-59.523600</td>\n",
              "      <td>4/4/20</td>\n",
              "      <td>1</td>\n",
              "      <td>0</td>\n",
              "      <td>0</td>\n",
              "    </tr>\n",
              "  </tbody>\n",
              "</table>\n",
              "<p>19018 rows × 8 columns</p>\n",
              "</div>"
            ],
            "text/plain": [
              "                           Country_State    Country_Name  ...  Deaths  Recovered\n",
              "0                                    NaN     Afghanistan  ...       0          0\n",
              "1                                    NaN         Albania  ...       0          0\n",
              "2                                    NaN         Algeria  ...       0          0\n",
              "3                                    NaN         Andorra  ...       0          0\n",
              "4                                    NaN          Angola  ...       0          0\n",
              "...                                  ...             ...  ...     ...        ...\n",
              "19013                                NaN        Botswana  ...       1          0\n",
              "19014                                NaN         Burundi  ...       0          0\n",
              "19015                                NaN    Sierra Leone  ...       0          0\n",
              "19016                                NaN          Malawi  ...       0          0\n",
              "19017  Falkland Islands (Islas Malvinas)  United Kingdom  ...       0          0\n",
              "\n",
              "[19018 rows x 8 columns]"
            ]
          },
          "metadata": {
            "tags": []
          },
          "execution_count": 7
        }
      ]
    },
    {
      "cell_type": "markdown",
      "metadata": {
        "id": "YWyBW2w2JKRN",
        "colab_type": "text"
      },
      "source": [
        "# **Pre-Process Date**"
      ]
    },
    {
      "cell_type": "markdown",
      "metadata": {
        "id": "BO2C286ycRjH",
        "colab_type": "text"
      },
      "source": [
        "* **Append a Column Called Date (datetime64) use to_datetime**"
      ]
    },
    {
      "cell_type": "code",
      "metadata": {
        "id": "8KjwVhDEbdP0",
        "colab_type": "code",
        "outputId": "2d4f8bdc-fbf4-4dff-be8e-d63e976ab750",
        "colab": {
          "base_uri": "https://localhost:8080/",
          "height": 187
        }
      },
      "source": [
        "Date = pd.to_datetime(pd.Series(df_Covid['DateOld']), format=\"%m/%d/%y\")\n",
        "df_Covid['Date'] = Date\n",
        "df_Covid.dtypes"
      ],
      "execution_count": 8,
      "outputs": [
        {
          "output_type": "execute_result",
          "data": {
            "text/plain": [
              "Country_State            object\n",
              "Country_Name             object\n",
              "Lat                     float64\n",
              "Long                    float64\n",
              "DateOld                  object\n",
              "Confirmed                 int64\n",
              "Deaths                    int64\n",
              "Recovered                 int64\n",
              "Date             datetime64[ns]\n",
              "dtype: object"
            ]
          },
          "metadata": {
            "tags": []
          },
          "execution_count": 8
        }
      ]
    },
    {
      "cell_type": "markdown",
      "metadata": {
        "id": "qXsZIz1hWSDF",
        "colab_type": "text"
      },
      "source": [
        "* **or Append Date (datetime64) using datetime.strptime - Alternative**"
      ]
    },
    {
      "cell_type": "code",
      "metadata": {
        "id": "xLralIFQWWmx",
        "colab_type": "code",
        "colab": {}
      },
      "source": [
        "# Pull DateOld\n",
        "getDate = df_Covid['DateOld']\n",
        "\n",
        "# Function Convert YY-MM-DD from MM/DD/YY (Object)\n",
        "def object_to_date(DateBefore):\n",
        "    DateAfter = datetime.strptime(DateBefore, '%m/%d/%y').strftime('%Y-%m-%d')\n",
        "    return DateAfter\n",
        "\n",
        "# Append a Column Called Date (New)\n",
        "Date = []\n",
        "for i in range(len(getDate)):    \n",
        "    DateBefore = getDate[i]\n",
        "    Date.append(object_to_date(DateBefore))\n",
        "df_Covid['Date'] = Date #But still String\n",
        "df_Covid.tail() "
      ],
      "execution_count": 0,
      "outputs": []
    },
    {
      "cell_type": "markdown",
      "metadata": {
        "id": "3UX1Krtk0pMi",
        "colab_type": "text"
      },
      "source": [
        "# **Pre-Process Country Code**\n"
      ]
    },
    {
      "cell_type": "markdown",
      "metadata": {
        "id": "HvAEbFd80zSU",
        "colab_type": "text"
      },
      "source": [
        "* **Make a DataFrame for Reference Table, Append Country_Name**"
      ]
    },
    {
      "cell_type": "code",
      "metadata": {
        "id": "BKbUBc3dG_6Y",
        "colab_type": "code",
        "outputId": "8b57d328-2575-4e57-ea97-fff39c231010",
        "colab": {
          "base_uri": "https://localhost:8080/",
          "height": 204
        }
      },
      "source": [
        "Country_Name = df_Covid['Country_Name'] #Raw\n",
        "Country_Name = list(set(Country_Name)) #Distinct\n",
        "Country_Name = sorted(Country_Name) #Sort\n",
        "df_Country = pd.DataFrame(Country_Name)\n",
        "df_Country.columns = ['Country_Name']\n",
        "df_Country.tail()"
      ],
      "execution_count": 9,
      "outputs": [
        {
          "output_type": "execute_result",
          "data": {
            "text/html": [
              "<div>\n",
              "<style scoped>\n",
              "    .dataframe tbody tr th:only-of-type {\n",
              "        vertical-align: middle;\n",
              "    }\n",
              "\n",
              "    .dataframe tbody tr th {\n",
              "        vertical-align: top;\n",
              "    }\n",
              "\n",
              "    .dataframe thead th {\n",
              "        text-align: right;\n",
              "    }\n",
              "</style>\n",
              "<table border=\"1\" class=\"dataframe\">\n",
              "  <thead>\n",
              "    <tr style=\"text-align: right;\">\n",
              "      <th></th>\n",
              "      <th>Country_Name</th>\n",
              "    </tr>\n",
              "  </thead>\n",
              "  <tbody>\n",
              "    <tr>\n",
              "      <th>176</th>\n",
              "      <td>Venezuela</td>\n",
              "    </tr>\n",
              "    <tr>\n",
              "      <th>177</th>\n",
              "      <td>Vietnam</td>\n",
              "    </tr>\n",
              "    <tr>\n",
              "      <th>178</th>\n",
              "      <td>West Bank and Gaza</td>\n",
              "    </tr>\n",
              "    <tr>\n",
              "      <th>179</th>\n",
              "      <td>Zambia</td>\n",
              "    </tr>\n",
              "    <tr>\n",
              "      <th>180</th>\n",
              "      <td>Zimbabwe</td>\n",
              "    </tr>\n",
              "  </tbody>\n",
              "</table>\n",
              "</div>"
            ],
            "text/plain": [
              "           Country_Name\n",
              "176           Venezuela\n",
              "177             Vietnam\n",
              "178  West Bank and Gaza\n",
              "179              Zambia\n",
              "180            Zimbabwe"
            ]
          },
          "metadata": {
            "tags": []
          },
          "execution_count": 9
        }
      ]
    },
    {
      "cell_type": "markdown",
      "metadata": {
        "id": "b1SQWf8G09xV",
        "colab_type": "text"
      },
      "source": [
        "* **Append a Column Called Country_Code**"
      ]
    },
    {
      "cell_type": "code",
      "metadata": {
        "id": "QrnTUs8WGvwx",
        "colab_type": "code",
        "outputId": "4d5843b2-4728-4009-eb18-a55354cf817f",
        "colab": {
          "base_uri": "https://localhost:8080/",
          "height": 204
        }
      },
      "source": [
        "Country_ISO = {} #Read this Variable to Show Official Name\n",
        "for country in pycountry.countries:\n",
        "    Country_ISO[country.name] = country.alpha_2\n",
        "Country_Code = [Country_ISO.get(country) for country in Country_Name] \n",
        "df_Country['Country_Code'] = Country_Code\n",
        "df_Country.tail()"
      ],
      "execution_count": 10,
      "outputs": [
        {
          "output_type": "execute_result",
          "data": {
            "text/html": [
              "<div>\n",
              "<style scoped>\n",
              "    .dataframe tbody tr th:only-of-type {\n",
              "        vertical-align: middle;\n",
              "    }\n",
              "\n",
              "    .dataframe tbody tr th {\n",
              "        vertical-align: top;\n",
              "    }\n",
              "\n",
              "    .dataframe thead th {\n",
              "        text-align: right;\n",
              "    }\n",
              "</style>\n",
              "<table border=\"1\" class=\"dataframe\">\n",
              "  <thead>\n",
              "    <tr style=\"text-align: right;\">\n",
              "      <th></th>\n",
              "      <th>Country_Name</th>\n",
              "      <th>Country_Code</th>\n",
              "    </tr>\n",
              "  </thead>\n",
              "  <tbody>\n",
              "    <tr>\n",
              "      <th>176</th>\n",
              "      <td>Venezuela</td>\n",
              "      <td>None</td>\n",
              "    </tr>\n",
              "    <tr>\n",
              "      <th>177</th>\n",
              "      <td>Vietnam</td>\n",
              "      <td>None</td>\n",
              "    </tr>\n",
              "    <tr>\n",
              "      <th>178</th>\n",
              "      <td>West Bank and Gaza</td>\n",
              "      <td>None</td>\n",
              "    </tr>\n",
              "    <tr>\n",
              "      <th>179</th>\n",
              "      <td>Zambia</td>\n",
              "      <td>ZM</td>\n",
              "    </tr>\n",
              "    <tr>\n",
              "      <th>180</th>\n",
              "      <td>Zimbabwe</td>\n",
              "      <td>ZW</td>\n",
              "    </tr>\n",
              "  </tbody>\n",
              "</table>\n",
              "</div>"
            ],
            "text/plain": [
              "           Country_Name Country_Code\n",
              "176           Venezuela         None\n",
              "177             Vietnam         None\n",
              "178  West Bank and Gaza         None\n",
              "179              Zambia           ZM\n",
              "180            Zimbabwe           ZW"
            ]
          },
          "metadata": {
            "tags": []
          },
          "execution_count": 10
        }
      ]
    },
    {
      "cell_type": "markdown",
      "metadata": {
        "id": "NjdXF1B-1GHS",
        "colab_type": "text"
      },
      "source": [
        "* **Check Missing Value for Country_Code**"
      ]
    },
    {
      "cell_type": "code",
      "metadata": {
        "id": "2ZM8cqe8HDKb",
        "colab_type": "code",
        "outputId": "741df1ac-3de3-4806-c56d-71dd993190c5",
        "colab": {
          "base_uri": "https://localhost:8080/",
          "height": 68
        }
      },
      "source": [
        "df_Country.isnull().values.any() \n",
        "df_Country.isnull().sum()"
      ],
      "execution_count": 11,
      "outputs": [
        {
          "output_type": "execute_result",
          "data": {
            "text/plain": [
              "Country_Name     0\n",
              "Country_Code    22\n",
              "dtype: int64"
            ]
          },
          "metadata": {
            "tags": []
          },
          "execution_count": 11
        }
      ]
    },
    {
      "cell_type": "markdown",
      "metadata": {
        "id": "Uh6-buN71Nqb",
        "colab_type": "text"
      },
      "source": [
        "* **Check which Country has Missing Country_Code**"
      ]
    },
    {
      "cell_type": "code",
      "metadata": {
        "id": "MgY3LwTUHGFZ",
        "colab_type": "code",
        "outputId": "77697d97-5db2-4541-b163-89f39d1f4140",
        "colab": {
          "base_uri": "https://localhost:8080/",
          "height": 187
        }
      },
      "source": [
        "Missing = df_Country[df_Country['Country_Code'].isnull()].index.tolist()\n",
        "Country_Missing_Code = df_Country.loc[Missing, 'Country_Name'] #Save Missing Country\n",
        "Country_Missing_Code.array"
      ],
      "execution_count": 12,
      "outputs": [
        {
          "output_type": "execute_result",
          "data": {
            "text/plain": [
              "<PandasArray>\n",
              "[            'Bolivia',              'Brunei',               'Burma',\n",
              " 'Congo (Brazzaville)',    'Congo (Kinshasa)',       \"Cote d'Ivoire\",\n",
              "    'Diamond Princess',            'Holy See',                'Iran',\n",
              "              'Kosovo',                'Laos',          'MS Zaandam',\n",
              "             'Moldova',              'Russia',         'South Korea',\n",
              "               'Syria',             'Taiwan*',            'Tanzania',\n",
              "                  'US',           'Venezuela',             'Vietnam',\n",
              "  'West Bank and Gaza']\n",
              "Length: 22, dtype: object"
            ]
          },
          "metadata": {
            "tags": []
          },
          "execution_count": 12
        }
      ]
    },
    {
      "cell_type": "markdown",
      "metadata": {
        "id": "Y1EddLqh5MDi",
        "colab_type": "text"
      },
      "source": [
        "* **Based on Country_Missing_Code, we must Fill it Manually**"
      ]
    },
    {
      "cell_type": "code",
      "metadata": {
        "id": "gct58RoH0Pi_",
        "colab_type": "code",
        "outputId": "7b551eff-b4db-4961-8c2b-1cce130361dd",
        "colab": {
          "base_uri": "https://localhost:8080/",
          "height": 204
        }
      },
      "source": [
        "df_Country.loc[Missing, 'Country_Code'] = ['BO', 'BN', 'MM', 'CG', 'CD', 'CI', 'Ship-DP', \n",
        "                                            'VA', 'IR', 'XK', 'LA', 'Ship-ZA', 'MD', 'RU', \n",
        "                                              'KR', 'SY', 'TW', 'TZ', 'US', 'VE', 'VN', 'PS']                                          \n",
        "df_Country.tail()"
      ],
      "execution_count": 13,
      "outputs": [
        {
          "output_type": "execute_result",
          "data": {
            "text/html": [
              "<div>\n",
              "<style scoped>\n",
              "    .dataframe tbody tr th:only-of-type {\n",
              "        vertical-align: middle;\n",
              "    }\n",
              "\n",
              "    .dataframe tbody tr th {\n",
              "        vertical-align: top;\n",
              "    }\n",
              "\n",
              "    .dataframe thead th {\n",
              "        text-align: right;\n",
              "    }\n",
              "</style>\n",
              "<table border=\"1\" class=\"dataframe\">\n",
              "  <thead>\n",
              "    <tr style=\"text-align: right;\">\n",
              "      <th></th>\n",
              "      <th>Country_Name</th>\n",
              "      <th>Country_Code</th>\n",
              "    </tr>\n",
              "  </thead>\n",
              "  <tbody>\n",
              "    <tr>\n",
              "      <th>176</th>\n",
              "      <td>Venezuela</td>\n",
              "      <td>VE</td>\n",
              "    </tr>\n",
              "    <tr>\n",
              "      <th>177</th>\n",
              "      <td>Vietnam</td>\n",
              "      <td>VN</td>\n",
              "    </tr>\n",
              "    <tr>\n",
              "      <th>178</th>\n",
              "      <td>West Bank and Gaza</td>\n",
              "      <td>PS</td>\n",
              "    </tr>\n",
              "    <tr>\n",
              "      <th>179</th>\n",
              "      <td>Zambia</td>\n",
              "      <td>ZM</td>\n",
              "    </tr>\n",
              "    <tr>\n",
              "      <th>180</th>\n",
              "      <td>Zimbabwe</td>\n",
              "      <td>ZW</td>\n",
              "    </tr>\n",
              "  </tbody>\n",
              "</table>\n",
              "</div>"
            ],
            "text/plain": [
              "           Country_Name Country_Code\n",
              "176           Venezuela           VE\n",
              "177             Vietnam           VN\n",
              "178  West Bank and Gaza           PS\n",
              "179              Zambia           ZM\n",
              "180            Zimbabwe           ZW"
            ]
          },
          "metadata": {
            "tags": []
          },
          "execution_count": 13
        }
      ]
    },
    {
      "cell_type": "markdown",
      "metadata": {
        "id": "KblOHdbU1SmU",
        "colab_type": "text"
      },
      "source": [
        "* **Fully Filled, Ready to Transform Processed to the Next Stage**\n"
      ]
    },
    {
      "cell_type": "code",
      "metadata": {
        "id": "TKaoqsQqHeUE",
        "colab_type": "code",
        "colab": {}
      },
      "source": [
        "Country_Code = list(df_Country['Country_Code']) "
      ],
      "execution_count": 0,
      "outputs": []
    },
    {
      "cell_type": "markdown",
      "metadata": {
        "id": "Q_xE7cJc1qMh",
        "colab_type": "text"
      },
      "source": [
        "# **Pre-Process Continent Name**"
      ]
    },
    {
      "cell_type": "markdown",
      "metadata": {
        "id": "D_kh5j8R14jy",
        "colab_type": "text"
      },
      "source": [
        "* **Function Convert Continent_Name from Country_Code**"
      ]
    },
    {
      "cell_type": "code",
      "metadata": {
        "id": "XD9oI8pzH_Bn",
        "colab_type": "code",
        "colab": {}
      },
      "source": [
        "def country_to_continent(country_alpha2):\n",
        "    country_continent_code = pc.country_alpha2_to_continent_code(country_alpha2)\n",
        "    country_continent_name = pc.convert_continent_code_to_continent_name(country_continent_code)\n",
        "    return country_continent_name"
      ],
      "execution_count": 0,
      "outputs": []
    },
    {
      "cell_type": "markdown",
      "metadata": {
        "id": "dzu5ao1v1zOD",
        "colab_type": "text"
      },
      "source": [
        "* **Append a Column Called Continent_Name**"
      ]
    },
    {
      "cell_type": "code",
      "metadata": {
        "id": "-CQwcRjQIeBf",
        "colab_type": "code",
        "outputId": "8501c61b-44d5-42d1-c722-314fb74a16e3",
        "colab": {
          "base_uri": "https://localhost:8080/",
          "height": 204
        }
      },
      "source": [
        "Continent_Name = []\n",
        "for i in range(len(Country_Code)):    \n",
        "    country_alpha2 = Country_Code[i]\n",
        "    try: Continent_Name.append((country_to_continent(country_alpha2)))\n",
        "    except: Continent_Name.append(np.NaN)\n",
        "df_Country['Continent_Name'] = Continent_Name\n",
        "df_Country.tail()"
      ],
      "execution_count": 16,
      "outputs": [
        {
          "output_type": "execute_result",
          "data": {
            "text/html": [
              "<div>\n",
              "<style scoped>\n",
              "    .dataframe tbody tr th:only-of-type {\n",
              "        vertical-align: middle;\n",
              "    }\n",
              "\n",
              "    .dataframe tbody tr th {\n",
              "        vertical-align: top;\n",
              "    }\n",
              "\n",
              "    .dataframe thead th {\n",
              "        text-align: right;\n",
              "    }\n",
              "</style>\n",
              "<table border=\"1\" class=\"dataframe\">\n",
              "  <thead>\n",
              "    <tr style=\"text-align: right;\">\n",
              "      <th></th>\n",
              "      <th>Country_Name</th>\n",
              "      <th>Country_Code</th>\n",
              "      <th>Continent_Name</th>\n",
              "    </tr>\n",
              "  </thead>\n",
              "  <tbody>\n",
              "    <tr>\n",
              "      <th>176</th>\n",
              "      <td>Venezuela</td>\n",
              "      <td>VE</td>\n",
              "      <td>South America</td>\n",
              "    </tr>\n",
              "    <tr>\n",
              "      <th>177</th>\n",
              "      <td>Vietnam</td>\n",
              "      <td>VN</td>\n",
              "      <td>Asia</td>\n",
              "    </tr>\n",
              "    <tr>\n",
              "      <th>178</th>\n",
              "      <td>West Bank and Gaza</td>\n",
              "      <td>PS</td>\n",
              "      <td>Asia</td>\n",
              "    </tr>\n",
              "    <tr>\n",
              "      <th>179</th>\n",
              "      <td>Zambia</td>\n",
              "      <td>ZM</td>\n",
              "      <td>Africa</td>\n",
              "    </tr>\n",
              "    <tr>\n",
              "      <th>180</th>\n",
              "      <td>Zimbabwe</td>\n",
              "      <td>ZW</td>\n",
              "      <td>Africa</td>\n",
              "    </tr>\n",
              "  </tbody>\n",
              "</table>\n",
              "</div>"
            ],
            "text/plain": [
              "           Country_Name Country_Code Continent_Name\n",
              "176           Venezuela           VE  South America\n",
              "177             Vietnam           VN           Asia\n",
              "178  West Bank and Gaza           PS           Asia\n",
              "179              Zambia           ZM         Africa\n",
              "180            Zimbabwe           ZW         Africa"
            ]
          },
          "metadata": {
            "tags": []
          },
          "execution_count": 16
        }
      ]
    },
    {
      "cell_type": "markdown",
      "metadata": {
        "id": "Vs5AKADa2Bjl",
        "colab_type": "text"
      },
      "source": [
        "* **Check Missing Value for Continent_Name**\n",
        "\n",
        "\n",
        "\n"
      ]
    },
    {
      "cell_type": "code",
      "metadata": {
        "id": "W05R4aINIfu9",
        "colab_type": "code",
        "outputId": "05689388-9d0d-4aaf-a347-0f2991ecba20",
        "colab": {
          "base_uri": "https://localhost:8080/",
          "height": 85
        }
      },
      "source": [
        "df_Country.isnull().values.any() \n",
        "df_Country.isnull().sum() "
      ],
      "execution_count": 17,
      "outputs": [
        {
          "output_type": "execute_result",
          "data": {
            "text/plain": [
              "Country_Name      0\n",
              "Country_Code      0\n",
              "Continent_Name    4\n",
              "dtype: int64"
            ]
          },
          "metadata": {
            "tags": []
          },
          "execution_count": 17
        }
      ]
    },
    {
      "cell_type": "markdown",
      "metadata": {
        "id": "5rptTv0j2HI8",
        "colab_type": "text"
      },
      "source": [
        "* **Check which Country has Missing Continent_Name**"
      ]
    },
    {
      "cell_type": "code",
      "metadata": {
        "id": "QbtW1itfIhag",
        "colab_type": "code",
        "outputId": "40cb6238-281c-40a3-b5ba-134bf8fd9d83",
        "colab": {
          "base_uri": "https://localhost:8080/",
          "height": 68
        }
      },
      "source": [
        "Missing = df_Country[df_Country['Continent_Name'].isnull()].index.tolist() \n",
        "Country_Missing_Continent = df_Country.loc[Missing, 'Country_Name'] #Save Missing Country\n",
        "Country_Missing_Continent.array"
      ],
      "execution_count": 18,
      "outputs": [
        {
          "output_type": "execute_result",
          "data": {
            "text/plain": [
              "<PandasArray>\n",
              "['Diamond Princess', 'Holy See', 'MS Zaandam', 'Timor-Leste']\n",
              "Length: 4, dtype: object"
            ]
          },
          "metadata": {
            "tags": []
          },
          "execution_count": 18
        }
      ]
    },
    {
      "cell_type": "markdown",
      "metadata": {
        "id": "TkZO355M5iB0",
        "colab_type": "text"
      },
      "source": [
        "* **Based on Country_Missing_Continent, we must Fill it Manually**"
      ]
    },
    {
      "cell_type": "code",
      "metadata": {
        "id": "4xQVJI661Txd",
        "colab_type": "code",
        "outputId": "937ed768-657a-4a6f-de7b-5ecdf2c7b243",
        "colab": {
          "base_uri": "https://localhost:8080/",
          "height": 204
        }
      },
      "source": [
        "df_Country.loc[Missing, 'Continent_Name'] = ['Ship', 'Europe', 'Ship', 'Asia']\n",
        "df_Country.tail()"
      ],
      "execution_count": 19,
      "outputs": [
        {
          "output_type": "execute_result",
          "data": {
            "text/html": [
              "<div>\n",
              "<style scoped>\n",
              "    .dataframe tbody tr th:only-of-type {\n",
              "        vertical-align: middle;\n",
              "    }\n",
              "\n",
              "    .dataframe tbody tr th {\n",
              "        vertical-align: top;\n",
              "    }\n",
              "\n",
              "    .dataframe thead th {\n",
              "        text-align: right;\n",
              "    }\n",
              "</style>\n",
              "<table border=\"1\" class=\"dataframe\">\n",
              "  <thead>\n",
              "    <tr style=\"text-align: right;\">\n",
              "      <th></th>\n",
              "      <th>Country_Name</th>\n",
              "      <th>Country_Code</th>\n",
              "      <th>Continent_Name</th>\n",
              "    </tr>\n",
              "  </thead>\n",
              "  <tbody>\n",
              "    <tr>\n",
              "      <th>176</th>\n",
              "      <td>Venezuela</td>\n",
              "      <td>VE</td>\n",
              "      <td>South America</td>\n",
              "    </tr>\n",
              "    <tr>\n",
              "      <th>177</th>\n",
              "      <td>Vietnam</td>\n",
              "      <td>VN</td>\n",
              "      <td>Asia</td>\n",
              "    </tr>\n",
              "    <tr>\n",
              "      <th>178</th>\n",
              "      <td>West Bank and Gaza</td>\n",
              "      <td>PS</td>\n",
              "      <td>Asia</td>\n",
              "    </tr>\n",
              "    <tr>\n",
              "      <th>179</th>\n",
              "      <td>Zambia</td>\n",
              "      <td>ZM</td>\n",
              "      <td>Africa</td>\n",
              "    </tr>\n",
              "    <tr>\n",
              "      <th>180</th>\n",
              "      <td>Zimbabwe</td>\n",
              "      <td>ZW</td>\n",
              "      <td>Africa</td>\n",
              "    </tr>\n",
              "  </tbody>\n",
              "</table>\n",
              "</div>"
            ],
            "text/plain": [
              "           Country_Name Country_Code Continent_Name\n",
              "176           Venezuela           VE  South America\n",
              "177             Vietnam           VN           Asia\n",
              "178  West Bank and Gaza           PS           Asia\n",
              "179              Zambia           ZM         Africa\n",
              "180            Zimbabwe           ZW         Africa"
            ]
          },
          "metadata": {
            "tags": []
          },
          "execution_count": 19
        }
      ]
    },
    {
      "cell_type": "markdown",
      "metadata": {
        "id": "UbTXToxR2N-z",
        "colab_type": "text"
      },
      "source": [
        "# **Feature Engineering**"
      ]
    },
    {
      "cell_type": "markdown",
      "metadata": {
        "id": "0bwJtxa_2SIM",
        "colab_type": "text"
      },
      "source": [
        "* **Merge, Selection, Ordering**"
      ]
    },
    {
      "cell_type": "code",
      "metadata": {
        "id": "S82PNRXHIrwj",
        "colab_type": "code",
        "outputId": "83d9acef-2ed8-4ed7-f986-9c8abd6b423a",
        "colab": {
          "base_uri": "https://localhost:8080/",
          "height": 170
        }
      },
      "source": [
        "df_Merge = [df_Covid, df_Country] #LEFT JOIN\n",
        "df_Merge = reduce(lambda left,right: pd.merge(left,right,on='Country_Name',how='left'), df_Merge)\n",
        "\n",
        "df_Merge = df_Merge.drop(['Lat', 'Long', 'DateOld'], axis = 1) #Unused Features\n",
        "df_Merge = df_Merge[['Country_State', 'Country_Code', 'Country_Name', 'Continent_Name', \n",
        "                     'Date', 'Confirmed', 'Deaths', 'Recovered']] #Sort\n",
        "                     \n",
        "df_Merge.dtypes"
      ],
      "execution_count": 20,
      "outputs": [
        {
          "output_type": "execute_result",
          "data": {
            "text/plain": [
              "Country_State             object\n",
              "Country_Code              object\n",
              "Country_Name              object\n",
              "Continent_Name            object\n",
              "Date              datetime64[ns]\n",
              "Confirmed                  int64\n",
              "Deaths                     int64\n",
              "Recovered                  int64\n",
              "dtype: object"
            ]
          },
          "metadata": {
            "tags": []
          },
          "execution_count": 20
        }
      ]
    },
    {
      "cell_type": "markdown",
      "metadata": {
        "id": "VAY9tWNu2X9e",
        "colab_type": "text"
      },
      "source": [
        "* **Manipulate Index For DB Purpose** "
      ]
    },
    {
      "cell_type": "code",
      "metadata": {
        "id": "i8U6EBe6IzNt",
        "colab_type": "code",
        "outputId": "797ff864-7625-45ac-904a-f7fe8f688516",
        "colab": {
          "base_uri": "https://localhost:8080/",
          "height": 419
        }
      },
      "source": [
        "df_Merge.index += 1 \n",
        "df_Merge"
      ],
      "execution_count": 21,
      "outputs": [
        {
          "output_type": "execute_result",
          "data": {
            "text/html": [
              "<div>\n",
              "<style scoped>\n",
              "    .dataframe tbody tr th:only-of-type {\n",
              "        vertical-align: middle;\n",
              "    }\n",
              "\n",
              "    .dataframe tbody tr th {\n",
              "        vertical-align: top;\n",
              "    }\n",
              "\n",
              "    .dataframe thead th {\n",
              "        text-align: right;\n",
              "    }\n",
              "</style>\n",
              "<table border=\"1\" class=\"dataframe\">\n",
              "  <thead>\n",
              "    <tr style=\"text-align: right;\">\n",
              "      <th></th>\n",
              "      <th>Country_State</th>\n",
              "      <th>Country_Code</th>\n",
              "      <th>Country_Name</th>\n",
              "      <th>Continent_Name</th>\n",
              "      <th>Date</th>\n",
              "      <th>Confirmed</th>\n",
              "      <th>Deaths</th>\n",
              "      <th>Recovered</th>\n",
              "    </tr>\n",
              "  </thead>\n",
              "  <tbody>\n",
              "    <tr>\n",
              "      <th>1</th>\n",
              "      <td>NaN</td>\n",
              "      <td>AF</td>\n",
              "      <td>Afghanistan</td>\n",
              "      <td>Asia</td>\n",
              "      <td>2020-01-22</td>\n",
              "      <td>0</td>\n",
              "      <td>0</td>\n",
              "      <td>0</td>\n",
              "    </tr>\n",
              "    <tr>\n",
              "      <th>2</th>\n",
              "      <td>NaN</td>\n",
              "      <td>AL</td>\n",
              "      <td>Albania</td>\n",
              "      <td>Europe</td>\n",
              "      <td>2020-01-22</td>\n",
              "      <td>0</td>\n",
              "      <td>0</td>\n",
              "      <td>0</td>\n",
              "    </tr>\n",
              "    <tr>\n",
              "      <th>3</th>\n",
              "      <td>NaN</td>\n",
              "      <td>DZ</td>\n",
              "      <td>Algeria</td>\n",
              "      <td>Africa</td>\n",
              "      <td>2020-01-22</td>\n",
              "      <td>0</td>\n",
              "      <td>0</td>\n",
              "      <td>0</td>\n",
              "    </tr>\n",
              "    <tr>\n",
              "      <th>4</th>\n",
              "      <td>NaN</td>\n",
              "      <td>AD</td>\n",
              "      <td>Andorra</td>\n",
              "      <td>Europe</td>\n",
              "      <td>2020-01-22</td>\n",
              "      <td>0</td>\n",
              "      <td>0</td>\n",
              "      <td>0</td>\n",
              "    </tr>\n",
              "    <tr>\n",
              "      <th>5</th>\n",
              "      <td>NaN</td>\n",
              "      <td>AO</td>\n",
              "      <td>Angola</td>\n",
              "      <td>Africa</td>\n",
              "      <td>2020-01-22</td>\n",
              "      <td>0</td>\n",
              "      <td>0</td>\n",
              "      <td>0</td>\n",
              "    </tr>\n",
              "    <tr>\n",
              "      <th>...</th>\n",
              "      <td>...</td>\n",
              "      <td>...</td>\n",
              "      <td>...</td>\n",
              "      <td>...</td>\n",
              "      <td>...</td>\n",
              "      <td>...</td>\n",
              "      <td>...</td>\n",
              "      <td>...</td>\n",
              "    </tr>\n",
              "    <tr>\n",
              "      <th>19014</th>\n",
              "      <td>NaN</td>\n",
              "      <td>BW</td>\n",
              "      <td>Botswana</td>\n",
              "      <td>Africa</td>\n",
              "      <td>2020-04-04</td>\n",
              "      <td>4</td>\n",
              "      <td>1</td>\n",
              "      <td>0</td>\n",
              "    </tr>\n",
              "    <tr>\n",
              "      <th>19015</th>\n",
              "      <td>NaN</td>\n",
              "      <td>BI</td>\n",
              "      <td>Burundi</td>\n",
              "      <td>Africa</td>\n",
              "      <td>2020-04-04</td>\n",
              "      <td>3</td>\n",
              "      <td>0</td>\n",
              "      <td>0</td>\n",
              "    </tr>\n",
              "    <tr>\n",
              "      <th>19016</th>\n",
              "      <td>NaN</td>\n",
              "      <td>SL</td>\n",
              "      <td>Sierra Leone</td>\n",
              "      <td>Africa</td>\n",
              "      <td>2020-04-04</td>\n",
              "      <td>4</td>\n",
              "      <td>0</td>\n",
              "      <td>0</td>\n",
              "    </tr>\n",
              "    <tr>\n",
              "      <th>19017</th>\n",
              "      <td>NaN</td>\n",
              "      <td>MW</td>\n",
              "      <td>Malawi</td>\n",
              "      <td>Africa</td>\n",
              "      <td>2020-04-04</td>\n",
              "      <td>4</td>\n",
              "      <td>0</td>\n",
              "      <td>0</td>\n",
              "    </tr>\n",
              "    <tr>\n",
              "      <th>19018</th>\n",
              "      <td>Falkland Islands (Islas Malvinas)</td>\n",
              "      <td>GB</td>\n",
              "      <td>United Kingdom</td>\n",
              "      <td>Europe</td>\n",
              "      <td>2020-04-04</td>\n",
              "      <td>1</td>\n",
              "      <td>0</td>\n",
              "      <td>0</td>\n",
              "    </tr>\n",
              "  </tbody>\n",
              "</table>\n",
              "<p>19018 rows × 8 columns</p>\n",
              "</div>"
            ],
            "text/plain": [
              "                           Country_State Country_Code  ... Deaths Recovered\n",
              "1                                    NaN           AF  ...      0         0\n",
              "2                                    NaN           AL  ...      0         0\n",
              "3                                    NaN           DZ  ...      0         0\n",
              "4                                    NaN           AD  ...      0         0\n",
              "5                                    NaN           AO  ...      0         0\n",
              "...                                  ...          ...  ...    ...       ...\n",
              "19014                                NaN           BW  ...      1         0\n",
              "19015                                NaN           BI  ...      0         0\n",
              "19016                                NaN           SL  ...      0         0\n",
              "19017                                NaN           MW  ...      0         0\n",
              "19018  Falkland Islands (Islas Malvinas)           GB  ...      0         0\n",
              "\n",
              "[19018 rows x 8 columns]"
            ]
          },
          "metadata": {
            "tags": []
          },
          "execution_count": 21
        }
      ]
    },
    {
      "cell_type": "code",
      "metadata": {
        "id": "PY80u73kIAjE",
        "colab_type": "code",
        "outputId": "7520156e-eab7-4625-a7a3-63cb9db45bed",
        "colab": {
          "base_uri": "https://localhost:8080/",
          "height": 170
        }
      },
      "source": [
        "df_Merge.dtypes"
      ],
      "execution_count": 22,
      "outputs": [
        {
          "output_type": "execute_result",
          "data": {
            "text/plain": [
              "Country_State             object\n",
              "Country_Code              object\n",
              "Country_Name              object\n",
              "Continent_Name            object\n",
              "Date              datetime64[ns]\n",
              "Confirmed                  int64\n",
              "Deaths                     int64\n",
              "Recovered                  int64\n",
              "dtype: object"
            ]
          },
          "metadata": {
            "tags": []
          },
          "execution_count": 22
        }
      ]
    },
    {
      "cell_type": "markdown",
      "metadata": {
        "id": "WracvfjX_GVG",
        "colab_type": "text"
      },
      "source": [
        "# **Insert to MySQL DB & BackUp CSV**"
      ]
    },
    {
      "cell_type": "markdown",
      "metadata": {
        "id": "0FUwlI_qAJ7E",
        "colab_type": "text"
      },
      "source": [
        "* **Creating Connection**"
      ]
    },
    {
      "cell_type": "code",
      "metadata": {
        "id": "PIQjZ0_fQHJj",
        "colab_type": "code",
        "colab": {}
      },
      "source": [
        "engine = create_engine(\"mysql+pymysql://{user}:{pw}@{localhost}:{port}/{db}\"\n",
        "                       .format(user=\"xxx\", pw=\"xxx\", localhost=\"xxx\", port = \"xxx\", db=\"xxx\")) #Change It!"
      ],
      "execution_count": 0,
      "outputs": []
    },
    {
      "cell_type": "markdown",
      "metadata": {
        "id": "fNNWe8M0A_rY",
        "colab_type": "text"
      },
      "source": [
        "* **Ready to Insert, by Replace**"
      ]
    },
    {
      "cell_type": "code",
      "metadata": {
        "id": "s52VIdGvA9J2",
        "colab_type": "code",
        "colab": {}
      },
      "source": [
        "df_Merge.to_sql('covid_19_clean_complete', con = engine, if_exists = 'replace', chunksize = 1000)"
      ],
      "execution_count": 0,
      "outputs": []
    },
    {
      "cell_type": "markdown",
      "metadata": {
        "id": "8_gey9lRGviK",
        "colab_type": "text"
      },
      "source": [
        "# **BackUp CSV to Local File** "
      ]
    },
    {
      "cell_type": "markdown",
      "metadata": {
        "id": "G0DcBJqABWg_",
        "colab_type": "text"
      },
      "source": [
        "* **Store CSV At /content**"
      ]
    },
    {
      "cell_type": "code",
      "metadata": {
        "id": "r2Ev3eINBors",
        "colab_type": "code",
        "colab": {}
      },
      "source": [
        "VersionFile = date.today().strftime(\"%Y-%m-%d\")\n",
        "df_Merge.to_csv(path + 'covid_19_clean_complete ' + VersionFile + '.csv', index=True) "
      ],
      "execution_count": 0,
      "outputs": []
    },
    {
      "cell_type": "markdown",
      "metadata": {
        "id": "zaORa5bWBWmC",
        "colab_type": "text"
      },
      "source": [
        "* **Download Your CSV, with Versioning**"
      ]
    },
    {
      "cell_type": "code",
      "metadata": {
        "id": "gcBbotY_Cwf0",
        "colab_type": "code",
        "colab": {}
      },
      "source": [
        "files.download(path + 'covid_19_clean_complete ' + VersionFile + '.csv')"
      ],
      "execution_count": 0,
      "outputs": []
    }
  ]
}